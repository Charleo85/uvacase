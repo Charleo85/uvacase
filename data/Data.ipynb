{
 "cells": [
  {
   "cell_type": "code",
   "execution_count": 6,
   "metadata": {
    "collapsed": false
   },
   "outputs": [],
   "source": [
    "# Import libraries\n",
    "import gurobipy as grb\n",
    "import pandas as pd\n",
    "import matplotlib.pyplot as plt\n",
    "import numpy.random as np\n",
    "import sys\n",
    "import matplotlib \n",
    "%matplotlib inline\n",
    "\n",
    "GRB = grb.GRB"
   ]
  },
  {
   "cell_type": "code",
   "execution_count": 11,
   "metadata": {
    "collapsed": false
   },
   "outputs": [],
   "source": [
    "m = grb.Model()\n",
    "x1 = m.addVar(lb=0, ub=GRB.INFINITY, obj=20, vtype=GRB.CONTINUOUS, name='consumed.1')\n",
    "x2 = m.addVar(obj=10, name='consumed.2')\n",
    "x3 = m.addVar(obj=31, name='consumed.3')\n",
    "x4 = m.addVar(obj=11, name='consumed.4')\n",
    "x5 = m.addVar(obj=12, name='consumed.5')\n",
    "m.update()\n",
    "lhs = 2*x1 + 3*x3 + x4 + 2*x5\n",
    "iron_constr = m.addConstr(lhs, '>', 21, name='nutrient.iron')\n",
    "calcium_constr = m.addConstr(x2 + 2*x3 + 2*x4 + x5 >= 12, name='nutrient.calcium')\n",
    "m.update()\n",
    "\n",
    "\n",
    "m.write('diet.lp')\n"
   ]
  },
  {
   "cell_type": "code",
   "execution_count": 13,
   "metadata": {
    "collapsed": false
   },
   "outputs": [
    {
     "name": "stdout",
     "output_type": "stream",
     "text": [
      "\u001b[?1h\u001b=\r",
      "\\ LP format - for model browsing. Use MPS format to capture full model detail.\r\n",
      "Minimize\r\n",
      "  20 consumed.1 + 10 consumed.2 + 31 consumed.3 + 11 consumed.4\r\n",
      "   + 12 consumed.5\r\n",
      "Subject To\r\n",
      " nutrient.iron: 2 consumed.1 + 3 consumed.3 + consumed.4 + 2 consumed.5\r\n",
      "   >= 21\r\n",
      " nutrient.calcium: consumed.2 + 2 consumed.3 + 2 consumed.4 + consumed.5\r\n",
      "   >= 12\r\n",
      "Bounds\r\n",
      "End\r\n",
      "\r",
      "\u001b[K\u001b[?1l\u001b>"
     ]
    }
   ],
   "source": [
    "!more diet.lp"
   ]
  },
  {
   "cell_type": "code",
   "execution_count": null,
   "metadata": {
    "collapsed": true
   },
   "outputs": [],
   "source": [
    "m.optimize()\n",
    "print \"Model status =\", m.Status\n",
    "assert m.Status == GRB.OPTIMAL\n"
   ]
  },
  {
   "cell_type": "code",
   "execution_count": 14,
   "metadata": {
    "collapsed": false
   },
   "outputs": [
    {
     "data": {
      "text/html": [
       "<div>\n",
       "<table border=\"1\" class=\"dataframe\">\n",
       "  <thead>\n",
       "    <tr style=\"text-align: right;\">\n",
       "      <th></th>\n",
       "      <th>StoreID</th>\n",
       "      <th>State</th>\n",
       "      <th>Store Type</th>\n",
       "      <th>Store Age</th>\n",
       "      <th>Manager Tenure</th>\n",
       "      <th>Rent</th>\n",
       "      <th>Associates per Open Hour\n",
       "Pre 4/5/2015</th>\n",
       "      <th>Associates per Open Hour\n",
       "Post 4/5/2015</th>\n",
       "      <th>Open Time Pre 4/5/2015</th>\n",
       "      <th>Open Time Post 4/5/2015</th>\n",
       "      <th>Close Time Pre 4/5/2015</th>\n",
       "      <th>Close Time Post 4/5/2015</th>\n",
       "      <th>Avg Income within 5mi\n",
       "($1000s)</th>\n",
       "      <th>Population within 5mi\n",
       "(1000s)</th>\n",
       "      <th>Competition within 5mi</th>\n",
       "      <th>Avg Age within 5mi</th>\n",
       "    </tr>\n",
       "  </thead>\n",
       "  <tbody>\n",
       "    <tr>\n",
       "      <th>0</th>\n",
       "      <td>1</td>\n",
       "      <td>TX</td>\n",
       "      <td>Standalone</td>\n",
       "      <td>8</td>\n",
       "      <td>8</td>\n",
       "      <td>608975</td>\n",
       "      <td>24</td>\n",
       "      <td>24</td>\n",
       "      <td>07:00:00</td>\n",
       "      <td>07:00:00</td>\n",
       "      <td>21:00:00</td>\n",
       "      <td>21:00:00</td>\n",
       "      <td>39</td>\n",
       "      <td>388</td>\n",
       "      <td>45</td>\n",
       "      <td>28</td>\n",
       "    </tr>\n",
       "    <tr>\n",
       "      <th>1</th>\n",
       "      <td>2</td>\n",
       "      <td>TX</td>\n",
       "      <td>Standalone</td>\n",
       "      <td>38</td>\n",
       "      <td>4</td>\n",
       "      <td>903399</td>\n",
       "      <td>24</td>\n",
       "      <td>24</td>\n",
       "      <td>07:00:00</td>\n",
       "      <td>07:00:00</td>\n",
       "      <td>21:00:00</td>\n",
       "      <td>21:00:00</td>\n",
       "      <td>31</td>\n",
       "      <td>66</td>\n",
       "      <td>45</td>\n",
       "      <td>25</td>\n",
       "    </tr>\n",
       "    <tr>\n",
       "      <th>2</th>\n",
       "      <td>3</td>\n",
       "      <td>WI</td>\n",
       "      <td>Standalone</td>\n",
       "      <td>36</td>\n",
       "      <td>9</td>\n",
       "      <td>870832</td>\n",
       "      <td>24</td>\n",
       "      <td>24</td>\n",
       "      <td>07:00:00</td>\n",
       "      <td>07:00:00</td>\n",
       "      <td>21:00:00</td>\n",
       "      <td>21:00:00</td>\n",
       "      <td>69</td>\n",
       "      <td>13</td>\n",
       "      <td>6</td>\n",
       "      <td>27</td>\n",
       "    </tr>\n",
       "    <tr>\n",
       "      <th>3</th>\n",
       "      <td>4</td>\n",
       "      <td>NH</td>\n",
       "      <td>Strip Mall</td>\n",
       "      <td>39</td>\n",
       "      <td>2</td>\n",
       "      <td>601455</td>\n",
       "      <td>24</td>\n",
       "      <td>24</td>\n",
       "      <td>07:00:00</td>\n",
       "      <td>07:00:00</td>\n",
       "      <td>21:00:00</td>\n",
       "      <td>21:00:00</td>\n",
       "      <td>63</td>\n",
       "      <td>446</td>\n",
       "      <td>80</td>\n",
       "      <td>40</td>\n",
       "    </tr>\n",
       "    <tr>\n",
       "      <th>4</th>\n",
       "      <td>5</td>\n",
       "      <td>NJ</td>\n",
       "      <td>Standalone</td>\n",
       "      <td>20</td>\n",
       "      <td>1</td>\n",
       "      <td>749164</td>\n",
       "      <td>24</td>\n",
       "      <td>24</td>\n",
       "      <td>07:00:00</td>\n",
       "      <td>07:00:00</td>\n",
       "      <td>21:00:00</td>\n",
       "      <td>21:00:00</td>\n",
       "      <td>30</td>\n",
       "      <td>111</td>\n",
       "      <td>3</td>\n",
       "      <td>26</td>\n",
       "    </tr>\n",
       "  </tbody>\n",
       "</table>\n",
       "</div>"
      ],
      "text/plain": [
       "   StoreID State  Store Type  Store Age  Manager Tenure    Rent  \\\n",
       "0        1    TX  Standalone          8               8  608975   \n",
       "1        2    TX  Standalone         38               4  903399   \n",
       "2        3    WI  Standalone         36               9  870832   \n",
       "3        4    NH  Strip Mall         39               2  601455   \n",
       "4        5    NJ  Standalone         20               1  749164   \n",
       "\n",
       "   Associates per Open Hour\\nPre 4/5/2015  \\\n",
       "0                                      24   \n",
       "1                                      24   \n",
       "2                                      24   \n",
       "3                                      24   \n",
       "4                                      24   \n",
       "\n",
       "   Associates per Open Hour\\nPost 4/5/2015 Open Time Pre 4/5/2015  \\\n",
       "0                                       24               07:00:00   \n",
       "1                                       24               07:00:00   \n",
       "2                                       24               07:00:00   \n",
       "3                                       24               07:00:00   \n",
       "4                                       24               07:00:00   \n",
       "\n",
       "  Open Time Post 4/5/2015 Close Time Pre 4/5/2015 Close Time Post 4/5/2015  \\\n",
       "0                07:00:00                21:00:00                 21:00:00   \n",
       "1                07:00:00                21:00:00                 21:00:00   \n",
       "2                07:00:00                21:00:00                 21:00:00   \n",
       "3                07:00:00                21:00:00                 21:00:00   \n",
       "4                07:00:00                21:00:00                 21:00:00   \n",
       "\n",
       "   Avg Income within 5mi\\n($1000s)  Population within 5mi\\n(1000s)  \\\n",
       "0                               39                             388   \n",
       "1                               31                              66   \n",
       "2                               69                              13   \n",
       "3                               63                             446   \n",
       "4                               30                             111   \n",
       "\n",
       "   Competition within 5mi  Avg Age within 5mi  \n",
       "0                      45                  28  \n",
       "1                      45                  25  \n",
       "2                       6                  27  \n",
       "3                      80                  40  \n",
       "4                       3                  26  "
      ]
     },
     "execution_count": 14,
     "metadata": {},
     "output_type": "execute_result"
    }
   ],
   "source": [
    "fin = pd.read_excel('Finan.xlsx')\n",
    "fin.head()\n",
    "spe = pd.read_excel('Spec.xlsx')\n",
    "spe.head()"
   ]
  },
  {
   "cell_type": "code",
   "execution_count": 15,
   "metadata": {
    "collapsed": false
   },
   "outputs": [
    {
     "ename": "NameError",
     "evalue": "name 'df' is not defined",
     "output_type": "error",
     "traceback": [
      "\u001b[0;31m---------------------------------------------------------------------------\u001b[0m",
      "\u001b[0;31mNameError\u001b[0m                                 Traceback (most recent call last)",
      "\u001b[0;32m<ipython-input-15-88233f901927>\u001b[0m in \u001b[0;36m<module>\u001b[0;34m()\u001b[0m\n\u001b[0;32m----> 1\u001b[0;31m \u001b[0mdf\u001b[0m\u001b[0;34m.\u001b[0m\u001b[0miloc\u001b[0m\u001b[0;34m[\u001b[0m\u001b[0;36m278\u001b[0m\u001b[0;34m]\u001b[0m\u001b[0;34m.\u001b[0m\u001b[0mplot\u001b[0m\u001b[0;34m(\u001b[0m\u001b[0mfigsize\u001b[0m\u001b[0;34m=\u001b[0m\u001b[0;34m(\u001b[0m\u001b[0;36m15\u001b[0m\u001b[0;34m,\u001b[0m\u001b[0;36m5\u001b[0m\u001b[0;34m)\u001b[0m\u001b[0;34m)\u001b[0m\u001b[0;34m\u001b[0m\u001b[0m\n\u001b[0m\u001b[1;32m      2\u001b[0m \u001b[0mdf\u001b[0m\u001b[0;34m.\u001b[0m\u001b[0miloc\u001b[0m\u001b[0;34m[\u001b[0m\u001b[0;36m21\u001b[0m\u001b[0;34m]\u001b[0m\u001b[0;34m.\u001b[0m\u001b[0mplot\u001b[0m\u001b[0;34m(\u001b[0m\u001b[0mfigsize\u001b[0m\u001b[0;34m=\u001b[0m\u001b[0;34m(\u001b[0m\u001b[0;36m15\u001b[0m\u001b[0;34m,\u001b[0m\u001b[0;36m5\u001b[0m\u001b[0;34m)\u001b[0m\u001b[0;34m)\u001b[0m\u001b[0;34m\u001b[0m\u001b[0m\n\u001b[1;32m      3\u001b[0m \u001b[0;31m#df.iloc[31].plot(figsize=(15,5))\u001b[0m\u001b[0;34m\u001b[0m\u001b[0;34m\u001b[0m\u001b[0m\n\u001b[1;32m      4\u001b[0m \u001b[0;34m\u001b[0m\u001b[0m\n\u001b[1;32m      5\u001b[0m \u001b[0;34m\u001b[0m\u001b[0m\n",
      "\u001b[0;31mNameError\u001b[0m: name 'df' is not defined"
     ]
    }
   ],
   "source": [
    "df.iloc[278].plot(figsize=(15,5))\n",
    "df.iloc[21].plot(figsize=(15,5))\n",
    "#df.iloc[31].plot(figsize=(15,5))\n",
    "\n",
    "\n",
    "\n"
   ]
  }
 ],
 "metadata": {
  "kernelspec": {
   "display_name": "Python [conda env:uvacase]",
   "language": "python",
   "name": "conda-env-uvacase-py"
  },
  "language_info": {
   "codemirror_mode": {
    "name": "ipython",
    "version": 2
   },
   "file_extension": ".py",
   "mimetype": "text/x-python",
   "name": "python",
   "nbconvert_exporter": "python",
   "pygments_lexer": "ipython2",
   "version": "2.7.13"
  }
 },
 "nbformat": 4,
 "nbformat_minor": 2
}
