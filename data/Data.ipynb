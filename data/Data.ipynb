{
 "cells": [
  {
   "cell_type": "code",
   "execution_count": 2,
   "metadata": {
    "collapsed": false,
    "deletable": true,
    "editable": true
   },
   "outputs": [],
   "source": [
    "# Import libraries\n",
    "import gurobipy as grb\n",
    "import pandas as pd\n",
    "import matplotlib.pyplot as plt\n",
    "import numpy.random as np\n",
    "import sys\n",
    "import matplotlib \n",
    "%matplotlib inline\n",
    "\n",
    "GRB = grb.GRB"
   ]
  },
  {
   "cell_type": "markdown",
   "metadata": {
    "deletable": true,
    "editable": true
   },
   "source": [
    "The increase revenue:\n",
    "$$\\sum_i^{483} R_i*y_i=\\sum_i^{483} R_i(a_1x_1^{(i)}+a_2x_2^{(i)}+C^{(i)})= \\sum_i^{483} R_i(a_1x_1^{(i)}+a_2x_2^{(i)})+\\sum_i^{483}R_iC^{(i)}=\\sum_i^{483}R_i(a_1x_1^{(i)}+a_2x_2^{(i)})+C_0$$\n",
    "Since the constant does not affect the optimization, we can simplify the integer linear equation to maximize:\n",
    "$$\\sum_i^{483}R_i(a_1x_1^{(i)}+a_2x_2^{(i)})$$\n",
    "where for each store i, $R_i$ is the originial revenue , $y_i$ is the projected growth rate predicted by variables, $C^{(i)}$ is the constant factor of the store. \n",
    "\n",
    "The parameter $a_1,a_2$, trained from the dataset, is assumed as the same for all store.\n",
    "\n",
    "Subject to: \n",
    "- The store originially open 14 hours, hire 24 associates. $$S=483*14*(10*24+250)$$\n",
    "Zero expense change with each store had a utilities cost of $250$ per store per hour open, and an average cost of $10$ per employee per hour: $$S=\\sum_i^{483}(10(x_1^{(i)}+24)+250)(14+x_2^{(i)})=\\sum_i^{483}10*x_1^{(i)}*14+10*x_1^{(i)}*x_2^{(i)}+10*24*14+10*24*x_2^{(i)}+250*14+250*x_2^{(i)}$$\n",
    "Simplify as: $$0=\\sum_i^{483}140x_1^{(i)}+10x_1^{(i)}x_2^{(i)}+240x_2^{(i)}+250x_2^{(i)}$$\n",
    "- The number of associates change: $x_1^{(i)}\\in \\{0, +2, +4\\}$\n",
    "- The number of openning hours change: $x_2^{(i)}\\in \\{0, -1, -2\\}$"
   ]
  },
  {
   "cell_type": "markdown",
   "metadata": {
    "deletable": true,
    "editable": true
   },
   "source": [
    "```\n",
    "(lm(formula = y1 ~ x1 + x2 + x4 + x5 + x6 + x7 + x8 + x9 + AL + \n",
    "     IL + LA + MI + OH + PA + SC + SD + WA + WV + x1:x4 + x1:x8 + \n",
    "     x2:x4 + x2:x8 + x4:x6 + x4:x9 + x5:x7 + x6:x9, data = newstore))\n",
    "To maximize:\n",
    "x_1*(-0.481+x_4*2.256+x_8*2.578)+x_2*(-3.689-x_4*2.329-x_8*1.475)\n",
    "\n",
    "Residuals:\n",
    "    Min      1Q  Median      3Q     Max \n",
    "-573.75 -156.34    4.06  157.33  634.99 \n",
    "\n",
    "Coefficients:\n",
    "              Estimate Std. Error t value Pr(>|t|)    \n",
    "(Intercept)  9.299e+02  1.816e+02   5.122 4.47e-07 ***\n",
    "x1          -1.391e+01  2.892e+01  -0.481 0.630841    \n",
    "x2          -1.796e+02  4.869e+01  -3.689 0.000253 ***\n",
    "x4           4.260e+00  3.189e+00   1.336 0.182321    \n",
    "x5           9.579e+00  3.250e+00   2.948 0.003367 ** \n",
    "x6          -5.233e-05  1.784e-04  -0.293 0.769391    \n",
    "x7           3.915e+01  1.563e+01   2.504 0.012616 *  \n",
    "x8           1.693e-01  1.078e+00   0.157 0.875353    \n",
    "x9          -2.247e+02  1.564e+02  -1.437 0.151516    \n",
    "AL           6.040e+02  2.504e+02   2.412 0.016253 *  \n",
    "IL          -6.991e+01  4.662e+01  -1.500 0.134394    \n",
    "LA           1.708e+02  7.982e+01   2.140 0.032864 *  \n",
    "MI          -2.020e+02  8.449e+01  -2.391 0.017200 *  \n",
    "OH           9.772e+01  5.338e+01   1.831 0.067778 .  \n",
    "PA           8.477e+01  5.568e+01   1.522 0.128578    \n",
    "SC          -1.803e+02  1.030e+02  -1.751 0.080614 .  \n",
    "SD          -3.987e+02  2.454e+02  -1.625 0.104932    \n",
    "WA          -1.214e+02  8.394e+01  -1.446 0.148732    \n",
    "WV          -2.135e+02  1.460e+02  -1.462 0.144429    \n",
    "x1:x4        1.352e+00  5.994e-01   2.256 0.024529 *  \n",
    "x1:x8        2.648e+00  1.027e+00   2.578 0.010261 *  \n",
    "x2:x4       -2.363e+00  1.015e+00  -2.329 0.020305 *  \n",
    "x2:x8       -2.826e+00  1.916e+00  -1.475 0.140830    \n",
    "x4:x6       -7.964e-06  4.359e-06  -1.827 0.068331 .  \n",
    "x4:x9        1.885e+00  9.341e-01   2.018 0.044176 *  \n",
    "x5:x7       -1.190e+00  4.444e-01  -2.678 0.007670 ** \n",
    "x6:x9        3.104e-04  2.083e-04   1.490 0.136828    \n",
    "---\n",
    "Signif. codes:  0 ‘***’ 0.001 ‘**’ 0.01 ‘*’ 0.05 ‘.’ 0.1 ‘ ’ 1\n",
    "\n",
    "Residual standard error: 243.2 on 456 degrees of freedom\n",
    "Multiple R-squared:  0.3765,\tAdjusted R-squared:  0.3409 \n",
    "F-statistic: 10.59 on 26 and 456 DF,  p-value: < 2.2e-16\n",
    "```"
   ]
  },
  {
   "cell_type": "code",
   "execution_count": 23,
   "metadata": {
    "collapsed": false
   },
   "outputs": [
    {
     "name": "stdout",
     "output_type": "stream",
     "text": [
      "Index([u'StoreID', u'State', u'Store Type', u'Store Age', u'Manager Tenure',\n",
      "       u'Rent', u'Associates per Open Hour\\nPre 4/5/2015',\n",
      "       u'Associates per Open Hour\\nPost 4/5/2015', u'Open Time Pre 4/5/2015',\n",
      "       u'Open Time Post 4/5/2015', u'Close Time Pre 4/5/2015',\n",
      "       u'Close Time Post 4/5/2015', u'Avg Income within 5mi\\n($1000s)',\n",
      "       u'Population within 5mi\\n(1000s)', u'Competition within 5mi',\n",
      "       u'Avg Age within 5mi'],\n",
      "      dtype='object')\n",
      "[608975, 903399, 870832, 601455, 749164, 601734, 620088, 751727, 785753, 855180, 731445, 765244, 687673, 705083, 745767, 612481, 744020, 647283, 677203, 732087, 756471, 685636, 774653, 668493, 716382, 714579, 627463, 647661, 635053, 686775, 685834, 655117, 729970, 643058, 734325, 668810, 627520, 824113, 702786, 606331, 656421, 624692, 605503, 750548, 613453, 618942, 773867, 633146, 839035, 685585, 692981, 692533, 687528, 729375, 649196, 665145, 693954, 737411, 608695, 617246, 689581, 637587, 707972, 659138, 610708, 731558, 606057, 844228, 865203, 768099, 832125, 673156, 921106, 639593, 644207, 866093, 604313, 843391, 957982, 607229, 611641, 614813, 915261, 761836, 751772, 604585, 818031, 613453, 746143, 893577, 801585, 611548, 902126, 749268, 603770, 651171, 675173, 640766, 607102, 602450, 640645, 971862, 622006, 663008, 727965, 806621, 698455, 1051564, 628973, 709985, 673396, 644142, 693201, 876834, 866719, 638442, 638613, 738691, 717354, 715688, 677910, 615037, 711668, 724845, 671693, 713880, 648066, 622889, 842843, 785570, 678656, 921346, 622869, 618940, 854803, 786017, 895969, 620951, 728421, 724087, 977493, 828190, 695877, 637527, 649129, 632180, 610926, 610549, 1037386, 709985, 840353, 620122, 663218, 972849, 824568, 807542, 819430, 619071, 796276, 652152, 886418, 777126, 630053, 839496, 776821, 602480, 730086, 615440, 613315, 768181, 699583, 836569, 643057, 790757, 639386, 623675, 751042, 739611, 642901, 609286, 605070, 623938, 780372, 840600, 607436, 746553, 830230, 904988, 859582, 635274, 776676, 635418, 632198, 606251, 611894, 671200, 992457, 693188, 676892, 623209, 642887, 715143, 629674, 616258, 683343, 738975, 740839, 895550, 761893, 604608, 746540, 684261, 619583, 695409, 770446, 601955, 613786, 944921, 633009, 716459, 632427, 757662, 724103, 676640, 640346, 631935, 666499, 651732, 854032, 620145, 646293, 620326, 760053, 891746, 750998, 743368, 634992, 633621, 631106, 601976, 735400, 794431, 642316, 662412, 685775, 765886, 899751, 951619, 1063034, 654634, 659375, 698010, 910072, 911282, 744166, 640627, 790433, 735346, 733612, 798890, 911591, 921269, 620967, 669185, 603550, 899993, 814853, 994326, 748503, 711148, 626627, 767979, 679381, 705453, 738171, 619513, 774755, 606682, 682820, 614853, 633299, 752013, 790842, 643302, 917104, 891947, 1036426, 614355, 726954, 673120, 697055, 704155, 616820, 658126, 740618, 713071, 616370, 826753, 674665, 968618, 1064469, 885490, 668312, 719939, 1097782, 701715, 1062107, 609462, 774378, 757212, 701615, 998406, 715743, 642793, 678865, 810894, 603790, 1020550, 614983, 834713, 634258, 726814, 773332, 751179, 610401, 629592, 680308, 623409, 832272, 622984, 845147, 616050, 605308, 721444, 767331, 649115, 673747, 742572, 818038, 812404, 774779, 658853, 793218, 891435, 861448, 734241, 622715, 907980, 633274, 693553, 616309, 866192, 627839, 800165, 722849, 615589, 601477, 738532, 889550, 724241, 674908, 620780, 719597, 618601, 773396, 681982, 669854, 740843, 604681, 665061, 794212, 766971, 890692, 610643, 712817, 857389, 927509, 788391, 1181256, 920060, 689752, 605219, 982253, 613131, 765757, 675117, 631459, 825803, 710971, 1009786, 622885, 656112, 664054, 700699, 621981, 717136, 896859, 686155, 656430, 756909, 633160, 642841, 765889, 1063624, 686861, 606313, 666591, 610836, 815220, 628562, 763998, 695438, 874694, 700756, 613467, 615540, 706990, 729421, 671611, 958909, 603314, 729970, 609839, 937677, 751694, 688482, 718982, 796470, 816202, 654762, 687509, 818910, 670842, 807929, 638538, 706543, 722910, 678997, 734176, 898406, 728551, 629458, 602805, 703569, 971482, 639901, 771559, 1023647, 658616, 774111, 825485, 830317, 607886, 610127, 650764, 725173, 659719, 695003, 704132, 722461, 627833, 612222, 633937, 714133, 606532, 642254, 853963, 745106, 626792, 777111, 643730, 822110, 714284, 605040, 630464, 1007320, 976882, 722623, 813760, 709155, 617829, 718710, 615784]\n"
     ]
    }
   ],
   "source": [
    "# read Spec.excel\n",
    "xl = pd.ExcelFile(\"Spec.xlsx\")\n",
    "xl.sheet_names\n",
    "df = xl.parse(0)\n",
    "print(df.columns)\n",
    "for title in df.columns:\n",
    "    list = []\n",
    "    for i in df[title]:\n",
    "        list.append(i)\n",
    "    "
   ]
  },
  {
   "cell_type": "code",
   "execution_count": 8,
   "metadata": {
    "collapsed": false,
    "deletable": true,
    "editable": true
   },
   "outputs": [],
   "source": [
    "m = grb.Model()\n",
    "x1 = {}\n",
    "x2 = {}\n",
    "for i in range(483):\n",
    "    x1[i] = m.addVar(lb=0, ub=2, obj=20, vtype=GRB.INTEGER)\n",
    "    x2[i] = m.addVar(lb=0, ub=2, obj=20, vtype=GRB.INTEGER)\n",
    "m.update()\n",
    "# lhs = 2*x1 + 3*x3 + x4 + 2*x5\n",
    "# iron_constr = m.addConstr(lhs, '>', 21, name='nutrient.iron')\n",
    "# calcium_constr = m.addConstr(x2 + 2*x3 + 2*x4 + x5 >= 12, name='nutrient.calcium')\n",
    "m.update()\n",
    "\n",
    "\n",
    "m.write('case.lp')\n"
   ]
  },
  {
   "cell_type": "code",
   "execution_count": 9,
   "metadata": {
    "collapsed": false,
    "deletable": true,
    "editable": true
   },
   "outputs": [
    {
     "name": "stdout",
     "output_type": "stream",
     "text": [
      "\u001b[?1h\u001b=\r",
      "\\ LP format - for model browsing. Use MPS format to capture full model detail.\r\n",
      "Minimize\r\n",
      "  20 C0 + 20 C1\r\n",
      "Subject To\r\n",
      "Bounds\r\n",
      " C0 <= 2\r\n",
      " C1 <= 2\r\n",
      "Generals\r\n",
      " C0 C1\r\n",
      "End\r\n",
      "\r",
      "\u001b[K\u001b[?1l\u001b>"
     ]
    }
   ],
   "source": [
    "!more case.lp"
   ]
  },
  {
   "cell_type": "code",
   "execution_count": 4,
   "metadata": {
    "collapsed": false,
    "deletable": true,
    "editable": true
   },
   "outputs": [
    {
     "name": "stdout",
     "output_type": "stream",
     "text": [
      "Optimize a model with 2 rows, 5 columns and 8 nonzeros\n",
      "Coefficient statistics:\n",
      "  Matrix range     [1e+00, 3e+00]\n",
      "  Objective range  [1e+01, 3e+01]\n",
      "  Bounds range     [0e+00, 0e+00]\n",
      "  RHS range        [1e+01, 2e+01]\n",
      "Presolve removed 0 rows and 3 columns\n",
      "Presolve time: 0.01s\n",
      "Presolved: 2 rows, 2 columns, 4 nonzeros\n",
      "\n",
      "Iteration    Objective       Primal Inf.    Dual Inf.      Time\n",
      "       0    0.0000000e+00   1.650000e+01   0.000000e+00      0s\n",
      "       2    1.3100000e+02   0.000000e+00   0.000000e+00      0s\n",
      "\n",
      "Solved in 2 iterations and 0.02 seconds\n",
      "Optimal objective  1.310000000e+02\n",
      "Model status = 2\n"
     ]
    }
   ],
   "source": [
    "m.optimize()\n",
    "print \"Model status =\", m.Status\n",
    "assert m.Status == GRB.OPTIMAL\n"
   ]
  },
  {
   "cell_type": "code",
   "execution_count": 5,
   "metadata": {
    "collapsed": false,
    "deletable": true,
    "editable": true
   },
   "outputs": [
    {
     "data": {
      "text/html": [
       "<div>\n",
       "<table border=\"1\" class=\"dataframe\">\n",
       "  <thead>\n",
       "    <tr style=\"text-align: right;\">\n",
       "      <th></th>\n",
       "      <th>StoreID</th>\n",
       "      <th>State</th>\n",
       "      <th>Store Type</th>\n",
       "      <th>Store Age</th>\n",
       "      <th>Manager Tenure</th>\n",
       "      <th>Rent</th>\n",
       "      <th>Associates per Open Hour\n",
       "Pre 4/5/2015</th>\n",
       "      <th>Associates per Open Hour\n",
       "Post 4/5/2015</th>\n",
       "      <th>Open Time Pre 4/5/2015</th>\n",
       "      <th>Open Time Post 4/5/2015</th>\n",
       "      <th>Close Time Pre 4/5/2015</th>\n",
       "      <th>Close Time Post 4/5/2015</th>\n",
       "      <th>Avg Income within 5mi\n",
       "($1000s)</th>\n",
       "      <th>Population within 5mi\n",
       "(1000s)</th>\n",
       "      <th>Competition within 5mi</th>\n",
       "      <th>Avg Age within 5mi</th>\n",
       "    </tr>\n",
       "  </thead>\n",
       "  <tbody>\n",
       "    <tr>\n",
       "      <th>0</th>\n",
       "      <td>1</td>\n",
       "      <td>TX</td>\n",
       "      <td>Standalone</td>\n",
       "      <td>8</td>\n",
       "      <td>8</td>\n",
       "      <td>608975</td>\n",
       "      <td>24</td>\n",
       "      <td>24</td>\n",
       "      <td>07:00:00</td>\n",
       "      <td>07:00:00</td>\n",
       "      <td>21:00:00</td>\n",
       "      <td>21:00:00</td>\n",
       "      <td>39</td>\n",
       "      <td>388</td>\n",
       "      <td>45</td>\n",
       "      <td>28</td>\n",
       "    </tr>\n",
       "    <tr>\n",
       "      <th>1</th>\n",
       "      <td>2</td>\n",
       "      <td>TX</td>\n",
       "      <td>Standalone</td>\n",
       "      <td>38</td>\n",
       "      <td>4</td>\n",
       "      <td>903399</td>\n",
       "      <td>24</td>\n",
       "      <td>24</td>\n",
       "      <td>07:00:00</td>\n",
       "      <td>07:00:00</td>\n",
       "      <td>21:00:00</td>\n",
       "      <td>21:00:00</td>\n",
       "      <td>31</td>\n",
       "      <td>66</td>\n",
       "      <td>45</td>\n",
       "      <td>25</td>\n",
       "    </tr>\n",
       "    <tr>\n",
       "      <th>2</th>\n",
       "      <td>3</td>\n",
       "      <td>WI</td>\n",
       "      <td>Standalone</td>\n",
       "      <td>36</td>\n",
       "      <td>9</td>\n",
       "      <td>870832</td>\n",
       "      <td>24</td>\n",
       "      <td>24</td>\n",
       "      <td>07:00:00</td>\n",
       "      <td>07:00:00</td>\n",
       "      <td>21:00:00</td>\n",
       "      <td>21:00:00</td>\n",
       "      <td>69</td>\n",
       "      <td>13</td>\n",
       "      <td>6</td>\n",
       "      <td>27</td>\n",
       "    </tr>\n",
       "    <tr>\n",
       "      <th>3</th>\n",
       "      <td>4</td>\n",
       "      <td>NH</td>\n",
       "      <td>Strip Mall</td>\n",
       "      <td>39</td>\n",
       "      <td>2</td>\n",
       "      <td>601455</td>\n",
       "      <td>24</td>\n",
       "      <td>24</td>\n",
       "      <td>07:00:00</td>\n",
       "      <td>07:00:00</td>\n",
       "      <td>21:00:00</td>\n",
       "      <td>21:00:00</td>\n",
       "      <td>63</td>\n",
       "      <td>446</td>\n",
       "      <td>80</td>\n",
       "      <td>40</td>\n",
       "    </tr>\n",
       "    <tr>\n",
       "      <th>4</th>\n",
       "      <td>5</td>\n",
       "      <td>NJ</td>\n",
       "      <td>Standalone</td>\n",
       "      <td>20</td>\n",
       "      <td>1</td>\n",
       "      <td>749164</td>\n",
       "      <td>24</td>\n",
       "      <td>24</td>\n",
       "      <td>07:00:00</td>\n",
       "      <td>07:00:00</td>\n",
       "      <td>21:00:00</td>\n",
       "      <td>21:00:00</td>\n",
       "      <td>30</td>\n",
       "      <td>111</td>\n",
       "      <td>3</td>\n",
       "      <td>26</td>\n",
       "    </tr>\n",
       "  </tbody>\n",
       "</table>\n",
       "</div>"
      ],
      "text/plain": [
       "   StoreID State  Store Type  Store Age  Manager Tenure    Rent  \\\n",
       "0        1    TX  Standalone          8               8  608975   \n",
       "1        2    TX  Standalone         38               4  903399   \n",
       "2        3    WI  Standalone         36               9  870832   \n",
       "3        4    NH  Strip Mall         39               2  601455   \n",
       "4        5    NJ  Standalone         20               1  749164   \n",
       "\n",
       "   Associates per Open Hour\\nPre 4/5/2015  \\\n",
       "0                                      24   \n",
       "1                                      24   \n",
       "2                                      24   \n",
       "3                                      24   \n",
       "4                                      24   \n",
       "\n",
       "   Associates per Open Hour\\nPost 4/5/2015 Open Time Pre 4/5/2015  \\\n",
       "0                                       24               07:00:00   \n",
       "1                                       24               07:00:00   \n",
       "2                                       24               07:00:00   \n",
       "3                                       24               07:00:00   \n",
       "4                                       24               07:00:00   \n",
       "\n",
       "  Open Time Post 4/5/2015 Close Time Pre 4/5/2015 Close Time Post 4/5/2015  \\\n",
       "0                07:00:00                21:00:00                 21:00:00   \n",
       "1                07:00:00                21:00:00                 21:00:00   \n",
       "2                07:00:00                21:00:00                 21:00:00   \n",
       "3                07:00:00                21:00:00                 21:00:00   \n",
       "4                07:00:00                21:00:00                 21:00:00   \n",
       "\n",
       "   Avg Income within 5mi\\n($1000s)  Population within 5mi\\n(1000s)  \\\n",
       "0                               39                             388   \n",
       "1                               31                              66   \n",
       "2                               69                              13   \n",
       "3                               63                             446   \n",
       "4                               30                             111   \n",
       "\n",
       "   Competition within 5mi  Avg Age within 5mi  \n",
       "0                      45                  28  \n",
       "1                      45                  25  \n",
       "2                       6                  27  \n",
       "3                      80                  40  \n",
       "4                       3                  26  "
      ]
     },
     "execution_count": 5,
     "metadata": {},
     "output_type": "execute_result"
    }
   ],
   "source": [
    "fin = pd.read_excel('Finan.xlsx')\n",
    "fin.head()\n",
    "spe = pd.read_excel('Spec.xlsx')\n",
    "spe.head()"
   ]
  },
  {
   "cell_type": "code",
   "execution_count": 6,
   "metadata": {
    "collapsed": false,
    "deletable": true,
    "editable": true
   },
   "outputs": [
    {
     "data": {
      "text/plain": [
       "<matplotlib.axes._subplots.AxesSubplot at 0x118435210>"
      ]
     },
     "execution_count": 6,
     "metadata": {},
     "output_type": "execute_result"
    },
    {
     "data": {
      "image/png": "[encoded data removed]",
      "text/plain": [
       "<matplotlib.figure.Figure at 0x118435790>"
      ]
     },
     "metadata": {},
     "output_type": "display_data"
    }
   ],
   "source": [
    "fin.iloc[278].plot(figsize=(15,5))\n",
    "fin.iloc[21].plot(figsize=(15,5))"
   ]
  }
 ],
 "metadata": {
  "kernelspec": {
   "display_name": "Python 2",
   "language": "python",
   "name": "python2"
  },
  "language_info": {
   "codemirror_mode": {
    "name": "ipython",
    "version": 2
   },
   "file_extension": ".py",
   "mimetype": "text/x-python",
   "name": "python",
   "nbconvert_exporter": "python",
   "pygments_lexer": "ipython2",
   "version": "2.7.13"
  }
 },
 "nbformat": 4,
 "nbformat_minor": 2
}
